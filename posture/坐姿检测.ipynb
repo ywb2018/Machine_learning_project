{
 "cells": [
  {
   "cell_type": "code",
   "execution_count": 1,
   "metadata": {},
   "outputs": [],
   "source": [
    "import numpy as np\n",
    "import pandas as pd\n",
    "import os"
   ]
  },
  {
   "cell_type": "code",
   "execution_count": 10,
   "metadata": {},
   "outputs": [
    {
     "data": {
      "text/plain": [
       "array([['cwbyoubian.txt', 'cwbyoubian2.txt', 'cwbyoubian3.txt',\n",
       "        'cwbzuobian.txt', 'cwbzuobian2.txt', 'cwbzuobian3.txt',\n",
       "        'cwbzuozhi.txt', 'cwbzuozhi10.txt', 'cwbzuozhi11.txt',\n",
       "        'cwbzuozhi12.txt', 'cwbzuozhi13.txt', 'cwbzuozhi14.txt',\n",
       "        'cwbzuozhi15.txt', 'cwbzuozhi2.txt', 'cwbzuozhi3.txt',\n",
       "        'cwbzuozhi4.txt', 'cwbzuozhi5.txt', 'cwbzuozhi6.txt',\n",
       "        'cwbzuozhi7.txt', 'cwbzuozhi8.txt', 'cwbzuozhi9.txt',\n",
       "        'tsytuobei1.txt', 'tsytuobei2.txt', 'tsytuobei3.txt',\n",
       "        'tsytuozuopian3.txt', 'tsyyoupian1.txt', 'tsyyoupian2.txt',\n",
       "        'tsyyoupian3.txt', 'tsyzuopian1.txt', 'tsyzuopian2.txt',\n",
       "        'tsyzuozhi1.txt', 'tsyzuozhi10.txt', 'tsyzuozhi2.txt',\n",
       "        'tsyzuozhi3.txt', 'tsyzuozhi4.txt', 'tsyzuozhi5.txt',\n",
       "        'tsyzuozhi6.txt', 'tsyzuozhi7.txt', 'tsyzuozhi8.txt',\n",
       "        'tsyzuozhi9.txt', 'tuobei.txt', 'tuobei2.txt', 'tuobei3.txt',\n",
       "        'wljtuobei1.txt', 'wljtuobei2.txt', 'wljtuobei3.txt',\n",
       "        'wljyoubian1.txt', 'wljyoubian2.txt', 'wljyoubian3.txt',\n",
       "        'wljzuobian1.txt', 'wljzuobian2.txt', 'wljzuobian3.txt',\n",
       "        'wljzuozhi1.txt', 'wljzuozhi10.txt', 'wljzuozhi11.txt',\n",
       "        'wljzuozhi12.txt', 'wljzuozhi13.txt', 'wljzuozhi14.txt',\n",
       "        'wljzuozhi15.txt', 'wljzuozhi2.txt', 'wljzuozhi3.txt',\n",
       "        'wljzuozhi4.txt', 'wljzuozhi5.txt', 'wljzuozhi6.txt',\n",
       "        'wljzuozhi7.txt', 'wljzuozhi8.txt', 'wljzuozhi9.txt']],\n",
       "      dtype='<U18')"
      ]
     },
     "execution_count": 10,
     "metadata": {},
     "output_type": "execute_result"
    }
   ],
   "source": [
    "data_location = 'E:/Dataset/posture'\n",
    "texts = np.reshape(os.listdir(data_location),(1,-1))\n",
    "texts"
   ]
  },
  {
   "cell_type": "markdown",
   "metadata": {},
   "source": [
    "### 解析文件，提取有用数据"
   ]
  },
  {
   "cell_type": "code",
   "execution_count": 12,
   "metadata": {},
   "outputs": [],
   "source": [
    "def file_parse():\n",
    "    \n",
    "    \n",
    "    return"
   ]
  },
  {
   "cell_type": "code",
   "execution_count": null,
   "metadata": {},
   "outputs": [],
   "source": []
  },
  {
   "cell_type": "code",
   "execution_count": null,
   "metadata": {},
   "outputs": [],
   "source": []
  }
 ],
 "metadata": {
  "kernelspec": {
   "display_name": "Python 3",
   "language": "python",
   "name": "python3"
  },
  "language_info": {
   "codemirror_mode": {
    "name": "ipython",
    "version": 3
   },
   "file_extension": ".py",
   "mimetype": "text/x-python",
   "name": "python",
   "nbconvert_exporter": "python",
   "pygments_lexer": "ipython3",
   "version": "3.6.0"
  }
 },
 "nbformat": 4,
 "nbformat_minor": 2
}
