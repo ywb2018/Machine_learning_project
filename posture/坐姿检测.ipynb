{
 "cells": [
  {
   "cell_type": "code",
   "execution_count": 2,
   "metadata": {},
   "outputs": [],
   "source": [
    "import numpy as np\n",
    "import pandas as pd\n",
    "import seaborn as sns\n",
    "import os\n",
    "import warnings\n",
    "warnings.filterwarnings('ignore')"
   ]
  },
  {
   "cell_type": "code",
   "execution_count": 3,
   "metadata": {},
   "outputs": [
    {
     "data": {
      "text/plain": [
       "['cwbyoubian.txt', 'cwbyoubian2.txt', 'cwbyoubian3.txt']"
      ]
     },
     "execution_count": 3,
     "metadata": {},
     "output_type": "execute_result"
    }
   ],
   "source": [
    "data_location = 'E:/Dataset/posture/'\n",
    "texts = os.listdir(data_location)\n",
    "texts[:3]"
   ]
  },
  {
   "cell_type": "markdown",
   "metadata": {},
   "source": [
    "### 解析文件，构造矩阵"
   ]
  },
  {
   "cell_type": "code",
   "execution_count": 4,
   "metadata": {},
   "outputs": [],
   "source": [
    "#sensor1 -- sensor2 --s3 -- s4 --s5 -- s6 --s7 -- s8 --s9 -- s10 -- 名字 -- 坐姿\n",
    "\n",
    "def text2matrix(filename):\n",
    "    with open(data_location+filename) as f:\n",
    "        str1 = f.readlines()\n",
    "    length = len(str1)\n",
    "    matrix = np.zeros((length,10))\n",
    "    \n",
    "    \n",
    "#--------------------矩阵解析-----------------------------------------------   \n",
    "    for i,line in enumerate(str1):\n",
    "        if i<1:continue;#解决第一行是空行的情况\n",
    "        num = np.reshape(str1[i].strip('\\t\\n').split('\\t'),(1,-1)).shape[1] #得到行数\n",
    "        if(num != 10):\n",
    "            matrix[i,:num] = np.array(str1[i].strip('\\t\\n').split('\\t'))\n",
    "        else:\n",
    "            matrix[i] = np.array(str1[i].strip('\\t\\n').split('\\t'))\n",
    "    handled_matrix = matrix[2:-3,:] # 去掉前2行和后3行后的矩阵\n",
    "#--------------------矩阵解析-----------------------------------------------     \n",
    "\n",
    "\n",
    "#--------------------label解析-----------------------------------------------  \n",
    "    lab_dict = {'tuobei' :1,\n",
    "                'youbian':2,\n",
    "                'youpian':2,\n",
    "                'zuobian':3,\n",
    "                'zuopian':3,\n",
    "                'zuozhi' :4}\n",
    "    #根据文件名解析 特征：人 和 label\n",
    "    if(filename.split('.')[0].isalpha()==False): #如果有数字\n",
    "        if(filename.split('.')[0][:-1].isalpha() ==False): #进一步判断是2个数字？\n",
    "            label = filename.split('.')[0][3:-2]         #如果是2个数字，就取最后两个数字之前的字母\n",
    "        else:#只有一个数字\n",
    "            label = filename.split('.')[0][3:-1]\n",
    "    else:\n",
    "        label = filename.split('.')[0][3:]\n",
    "#-------------------label解析----------------------------------------------\n",
    "        \n",
    "#-------------------姓名解析----------------------------------------------  \n",
    "    name_dict= {'cwb':1,\n",
    "                'tsy':2,\n",
    "                'wlj':3}\n",
    "    lab_column = np.ones((handled_matrix.shape[0],1))*lab_dict[label]\n",
    "    nam_column = np.ones((handled_matrix.shape[0],1))*name_dict[ filename[:3]]\n",
    "    new_matrix = np.column_stack((handled_matrix,nam_column))\n",
    "    matrix = np.column_stack((new_matrix,lab_column))\n",
    "    \n",
    "    rand_index = np.random.choice(matrix.shape[0],6,replace=False) # 抽取6个数据，四个用来训练，2个用来测试\n",
    "    train_matrix = matrix[rand_index[:5]][:]\n",
    "    test_matrix  = matrix[rand_index[5:]][:]\n",
    "    \n",
    "    return train_matrix,test_matrix"
   ]
  },
  {
   "cell_type": "markdown",
   "metadata": {},
   "source": [
    "### 构造训练集和测试集"
   ]
  },
  {
   "cell_type": "code",
   "execution_count": 5,
   "metadata": {},
   "outputs": [],
   "source": [
    "train_matrix = np.zeros((len(texts),5,12))\n",
    "test_matrix  = np.zeros((len(texts),1,12))\n",
    "def construct_dataset():\n",
    "    for i,file_name in enumerate(texts):\n",
    "        train_matrix[i],test_matrix[i] = text2matrix(file_name) #获得每个文件里的矩阵\n",
    "    \n",
    "    return train_matrix.reshape(-1,12),test_matrix.reshape(-1,12) #比较trick的一步"
   ]
  },
  {
   "cell_type": "code",
   "execution_count": 6,
   "metadata": {},
   "outputs": [],
   "source": [
    "train,test = construct_dataset()\n",
    "np.random.shuffle(train)\n",
    "np.random.shuffle(test)\n",
    "colum = ['sensor1','sensor2','sensor3','sensor4','sensor5','sensor6','sensor7','sensor8','sensor9','sensor10','Name','Posture']\n",
    "x_col = ['sensor1','sensor2','sensor3','sensor4','sensor5','sensor6','sensor7','sensor8','sensor9','sensor10','Name']\n"
   ]
  },
  {
   "cell_type": "code",
   "execution_count": 7,
   "metadata": {},
   "outputs": [],
   "source": [
    "train_df = pd.DataFrame(train,columns=colum)\n",
    "test_df  = pd.DataFrame(test, columns=colum)"
   ]
  },
  {
   "cell_type": "code",
   "execution_count": 8,
   "metadata": {},
   "outputs": [],
   "source": [
    "train_df.to_csv('C:/Users/ywb/Desktop/data/train_df.csv')\n",
    "test_df.to_csv('C:/Users/ywb/Desktop/data/test_df.csv')"
   ]
  },
  {
   "cell_type": "code",
   "execution_count": 9,
   "metadata": {},
   "outputs": [
    {
     "data": {
      "text/plain": [
       "Name\n",
       "1.0    105\n",
       "2.0     90\n",
       "3.0    120\n",
       "Name: Posture, dtype: int64"
      ]
     },
     "execution_count": 9,
     "metadata": {},
     "output_type": "execute_result"
    }
   ],
   "source": [
    "train_df.groupby('Name')['Posture'].count()   ## 每个人测试的数量还是平均的，不错"
   ]
  },
  {
   "cell_type": "markdown",
   "metadata": {},
   "source": [
    "##  特征和标签对应关系：\n",
    "### 驼背：1---------- cwb ：1\n",
    "### 右偏：2---------- tsy ：2\n",
    "### 左偏：3---------- wlj ：3\n",
    "### 坐直：4"
   ]
  },
  {
   "cell_type": "code",
   "execution_count": 10,
   "metadata": {},
   "outputs": [
    {
     "data": {
      "text/plain": [
       "4.0    200\n",
       "2.0     45\n",
       "3.0     40\n",
       "1.0     30\n",
       "Name: Posture, dtype: int64"
      ]
     },
     "execution_count": 10,
     "metadata": {},
     "output_type": "execute_result"
    }
   ],
   "source": [
    "train_df.Posture.value_counts()  ##有些不平衡，但是可以接受，看下训练的时候是否需要  分配权重"
   ]
  },
  {
   "cell_type": "code",
   "execution_count": 13,
   "metadata": {},
   "outputs": [],
   "source": [
    "from sklearn.svm import SVC\n",
    "from sklearn.cross_validation import KFold\n",
    "from sklearn.model_selection import cross_val_score\n",
    "from sklearn.grid_search import GridSearchCV\n",
    "from sklearn.metrics import r2_score,accuracy_score,auc"
   ]
  },
  {
   "cell_type": "code",
   "execution_count": 14,
   "metadata": {},
   "outputs": [
    {
     "data": {
      "text/plain": [
       "[mean: 0.89524, std: 0.01348, params: {'C': 0.1, 'kernel': 'linear'},\n",
       " mean: 0.92063, std: 0.00849, params: {'C': 0.1473684210526316, 'kernel': 'linear'},\n",
       " mean: 0.95873, std: 0.02499, params: {'C': 0.19473684210526315, 'kernel': 'linear'},\n",
       " mean: 0.95238, std: 0.02060, params: {'C': 0.24210526315789474, 'kernel': 'linear'},\n",
       " mean: 0.95238, std: 0.02060, params: {'C': 0.2894736842105263, 'kernel': 'linear'},\n",
       " mean: 0.95238, std: 0.02060, params: {'C': 0.33684210526315794, 'kernel': 'linear'},\n",
       " mean: 0.95238, std: 0.02060, params: {'C': 0.38421052631578945, 'kernel': 'linear'},\n",
       " mean: 0.95873, std: 0.01194, params: {'C': 0.43157894736842106, 'kernel': 'linear'},\n",
       " mean: 0.96190, std: 0.00789, params: {'C': 0.4789473684210527, 'kernel': 'linear'},\n",
       " mean: 0.96190, std: 0.00789, params: {'C': 0.5263157894736842, 'kernel': 'linear'},\n",
       " mean: 0.96190, std: 0.00789, params: {'C': 0.5736842105263158, 'kernel': 'linear'},\n",
       " mean: 0.95873, std: 0.00922, params: {'C': 0.6210526315789474, 'kernel': 'linear'},\n",
       " mean: 0.95873, std: 0.00922, params: {'C': 0.6684210526315789, 'kernel': 'linear'},\n",
       " mean: 0.95556, std: 0.01219, params: {'C': 0.7157894736842105, 'kernel': 'linear'},\n",
       " mean: 0.95556, std: 0.01219, params: {'C': 0.7631578947368421, 'kernel': 'linear'},\n",
       " mean: 0.95556, std: 0.01219, params: {'C': 0.8105263157894737, 'kernel': 'linear'},\n",
       " mean: 0.95238, std: 0.01592, params: {'C': 0.8578947368421053, 'kernel': 'linear'},\n",
       " mean: 0.95238, std: 0.01592, params: {'C': 0.9052631578947369, 'kernel': 'linear'},\n",
       " mean: 0.95238, std: 0.01592, params: {'C': 0.9526315789473684, 'kernel': 'linear'},\n",
       " mean: 0.95238, std: 0.01592, params: {'C': 1.0, 'kernel': 'linear'}]"
      ]
     },
     "execution_count": 14,
     "metadata": {},
     "output_type": "execute_result"
    }
   ],
   "source": [
    "model = SVC(decision_function_shape='ovr')\n",
    "# parame = {'kernel':['rbf'], \n",
    "#           'C':np.linspace(0.1,1,num=20),\n",
    "#           'gamma':np.logspace(-1,0,num=5)}\n",
    "parame = {'kernel':['linear'], \n",
    "          'C':np.linspace(0.1,1,num=20)}\n",
    "\n",
    "\n",
    "clf =GridSearchCV(model,parame)\n",
    "clf.fit(X=train_df[x_col],y=train_df['Posture'])\n",
    "\n",
    "clf.grid_scores_"
   ]
  },
  {
   "cell_type": "code",
   "execution_count": 15,
   "metadata": {},
   "outputs": [
    {
     "name": "stdout",
     "output_type": "stream",
     "text": [
      "准确率: 1.0\n"
     ]
    }
   ],
   "source": [
    "new_model = SVC(C=0.7,kernel='rbf',gamma=0.4641)\n",
    "new_model.fit(X=train_df[x_col],y=train_df['Posture'])\n",
    "predict_y = new_model.predict(test_df[x_col])\n",
    "print('准确率:',accuracy_score(predict_y,test_df['Posture']))"
   ]
  },
  {
   "cell_type": "code",
   "execution_count": null,
   "metadata": {},
   "outputs": [],
   "source": []
  }
 ],
 "metadata": {
  "kernelspec": {
   "display_name": "Python 3",
   "language": "python",
   "name": "python3"
  },
  "language_info": {
   "codemirror_mode": {
    "name": "ipython",
    "version": 3
   },
   "file_extension": ".py",
   "mimetype": "text/x-python",
   "name": "python",
   "nbconvert_exporter": "python",
   "pygments_lexer": "ipython3",
   "version": "3.6.0"
  }
 },
 "nbformat": 4,
 "nbformat_minor": 2
}
