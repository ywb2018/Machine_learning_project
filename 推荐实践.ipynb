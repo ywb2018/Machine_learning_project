{
 "cells": [
  {
   "cell_type": "code",
   "execution_count": 1,
   "metadata": {},
   "outputs": [],
   "source": [
    "import pandas as pd\n",
    "import numpy as np"
   ]
  },
  {
   "cell_type": "code",
   "execution_count": 2,
   "metadata": {},
   "outputs": [],
   "source": [
    "mydict = {    \n",
    "          '手撕猪肉':{'Ed':2,'Peter':3,'Tracy':1,'Fan':0,'Ming':0,'Pachi':0,'Jocelyn':0},\n",
    "            '烤牛肉':{'Ed':2,'Peter':3,'Tracy':1,'Fan':2,'Ming':0,'Pachi':0,'Jocelyn':0},\n",
    "            '寿司饭':{'Ed':0,'Peter':0,'Tracy':0,'Fan':1,'Ming':2,'Pachi':1,'Jocelyn':5},\n",
    "        '日式鸡排饭':{'Ed':4,'Peter':0,'Tracy':0,'Fan':1,'Ming':2,'Pachi':1,'Jocelyn':5},\n",
    "            '鳗鱼饭':{'Ed':4,'Peter':4,'Tracy':4,'Fan':1,'Ming':0,'Pachi':1,'Jocelyn':5},\n",
    "    \n",
    "}"
   ]
  },
  {
   "cell_type": "code",
   "execution_count": 3,
   "metadata": {},
   "outputs": [],
   "source": [
    "data=pd.DataFrame(mydict,columns =['鳗鱼饭','日式鸡排饭','寿司饭','烤牛肉','手撕猪肉'],\n",
    "                  index=['Ed','Peter','Tracy','Fan','Ming','Pachi','Jocelyn'])\n",
    "index=['Ed','Peter','Tracy','Fan','Ming','Pachi','Jocelyn']"
   ]
  },
  {
   "cell_type": "code",
   "execution_count": null,
   "metadata": {},
   "outputs": [],
   "source": []
  },
  {
   "cell_type": "code",
   "execution_count": 27,
   "metadata": {},
   "outputs": [],
   "source": [
    "from math import sqrt\n",
    "\n",
    "def multiply(a,b):\n",
    "    #a,b两个列表的数据一一对应相乘之后求和\n",
    "    sum_ab=0.0\n",
    "    for i in range(len(a)):\n",
    "        temp=a[i]*b[i]\n",
    "        sum_ab+=temp\n",
    "    return sum_ab\n",
    "\n",
    "def cal_pearson(x,y):\n",
    "    n=len(x)\n",
    "    #求x_list、y_list元素之和\n",
    "    sum_x=sum(x)\n",
    "    sum_y=sum(y)\n",
    "    #求x_list、y_list元素乘积之和\n",
    "    sum_xy=multiply(x,y)\n",
    "    #求x_list、y_list的平方和\n",
    "    sum_x2 = sum([pow(i,2) for i in x])\n",
    "    sum_y2 = sum([pow(j,2) for j in y])\n",
    "    molecular=sum_xy-(float(sum_x)*float(sum_y)/n)\n",
    "    #计算Pearson相关系数，molecular为分子，denominator为分母\n",
    "    denominator=sqrt((sum_x2-float(sum_x**2)/n)*(sum_y2-float(sum_y**2)/n))\n",
    "    return molecular/denominator"
   ]
  },
  {
   "cell_type": "markdown",
   "metadata": {},
   "source": [
    "## 计算Tracy对日式炸鸡排和寿司饭的评分，推荐一个给Tracy(基于物品适用于用户比较多的场景)"
   ]
  },
  {
   "cell_type": "code",
   "execution_count": null,
   "metadata": {},
   "outputs": [],
   "source": []
  },
  {
   "cell_type": "code",
   "execution_count": 29,
   "metadata": {},
   "outputs": [],
   "source": [
    "dict2 = [ [3,4,3,5,1,4],\n",
    "          [2,4,4,5,0,2],\n",
    "          [3,5,4,5,2,1],\n",
    "          [2,2,3,0,3,2],\n",
    "          [4,0,4,5,1,0]\n",
    "        ]\n",
    "col = ['A','B','C','D','E','F']\n",
    "ind = ['P1','P2','P3','P4','P5']"
   ]
  },
  {
   "cell_type": "code",
   "execution_count": 30,
   "metadata": {},
   "outputs": [],
   "source": [
    "df = pd.DataFrame(dict2,columns=col,index=ind)"
   ]
  },
  {
   "cell_type": "code",
   "execution_count": 31,
   "metadata": {},
   "outputs": [
    {
     "data": {
      "text/html": [
       "<div>\n",
       "<style scoped>\n",
       "    .dataframe tbody tr th:only-of-type {\n",
       "        vertical-align: middle;\n",
       "    }\n",
       "\n",
       "    .dataframe tbody tr th {\n",
       "        vertical-align: top;\n",
       "    }\n",
       "\n",
       "    .dataframe thead th {\n",
       "        text-align: right;\n",
       "    }\n",
       "</style>\n",
       "<table border=\"1\" class=\"dataframe\">\n",
       "  <thead>\n",
       "    <tr style=\"text-align: right;\">\n",
       "      <th></th>\n",
       "      <th>A</th>\n",
       "      <th>B</th>\n",
       "      <th>C</th>\n",
       "      <th>D</th>\n",
       "      <th>E</th>\n",
       "      <th>F</th>\n",
       "    </tr>\n",
       "  </thead>\n",
       "  <tbody>\n",
       "    <tr>\n",
       "      <th>P1</th>\n",
       "      <td>3</td>\n",
       "      <td>4</td>\n",
       "      <td>3</td>\n",
       "      <td>5</td>\n",
       "      <td>1</td>\n",
       "      <td>4</td>\n",
       "    </tr>\n",
       "    <tr>\n",
       "      <th>P2</th>\n",
       "      <td>2</td>\n",
       "      <td>4</td>\n",
       "      <td>4</td>\n",
       "      <td>5</td>\n",
       "      <td>0</td>\n",
       "      <td>2</td>\n",
       "    </tr>\n",
       "    <tr>\n",
       "      <th>P3</th>\n",
       "      <td>3</td>\n",
       "      <td>5</td>\n",
       "      <td>4</td>\n",
       "      <td>5</td>\n",
       "      <td>2</td>\n",
       "      <td>1</td>\n",
       "    </tr>\n",
       "    <tr>\n",
       "      <th>P4</th>\n",
       "      <td>2</td>\n",
       "      <td>2</td>\n",
       "      <td>3</td>\n",
       "      <td>0</td>\n",
       "      <td>3</td>\n",
       "      <td>2</td>\n",
       "    </tr>\n",
       "    <tr>\n",
       "      <th>P5</th>\n",
       "      <td>4</td>\n",
       "      <td>0</td>\n",
       "      <td>4</td>\n",
       "      <td>5</td>\n",
       "      <td>1</td>\n",
       "      <td>0</td>\n",
       "    </tr>\n",
       "  </tbody>\n",
       "</table>\n",
       "</div>"
      ],
      "text/plain": [
       "    A  B  C  D  E  F\n",
       "P1  3  4  3  5  1  4\n",
       "P2  2  4  4  5  0  2\n",
       "P3  3  5  4  5  2  1\n",
       "P4  2  2  3  0  3  2\n",
       "P5  4  0  4  5  1  0"
      ]
     },
     "execution_count": 31,
     "metadata": {},
     "output_type": "execute_result"
    }
   ],
   "source": [
    "df"
   ]
  },
  {
   "cell_type": "code",
   "execution_count": null,
   "metadata": {},
   "outputs": [],
   "source": []
  },
  {
   "cell_type": "code",
   "execution_count": 32,
   "metadata": {},
   "outputs": [],
   "source": [
    "movie_mat =[ [3,4,3],\n",
    "             [5,1,2],\n",
    "             [2,5,5],\n",
    "             [0,0,0],\n",
    "             [0,0,0] ]\n",
    "colum = ['玩命速递','环太平洋','变形金刚']\n"
   ]
  },
  {
   "cell_type": "code",
   "execution_count": 33,
   "metadata": {},
   "outputs": [],
   "source": [
    "add_df = pd.DataFrame(movie_mat,columns=colum,index=ind)"
   ]
  },
  {
   "cell_type": "code",
   "execution_count": 34,
   "metadata": {},
   "outputs": [
    {
     "data": {
      "text/html": [
       "<div>\n",
       "<style scoped>\n",
       "    .dataframe tbody tr th:only-of-type {\n",
       "        vertical-align: middle;\n",
       "    }\n",
       "\n",
       "    .dataframe tbody tr th {\n",
       "        vertical-align: top;\n",
       "    }\n",
       "\n",
       "    .dataframe thead th {\n",
       "        text-align: right;\n",
       "    }\n",
       "</style>\n",
       "<table border=\"1\" class=\"dataframe\">\n",
       "  <thead>\n",
       "    <tr style=\"text-align: right;\">\n",
       "      <th></th>\n",
       "      <th>玩命速递</th>\n",
       "      <th>环太平洋</th>\n",
       "      <th>变形金刚</th>\n",
       "    </tr>\n",
       "  </thead>\n",
       "  <tbody>\n",
       "    <tr>\n",
       "      <th>P1</th>\n",
       "      <td>3</td>\n",
       "      <td>4</td>\n",
       "      <td>3</td>\n",
       "    </tr>\n",
       "    <tr>\n",
       "      <th>P2</th>\n",
       "      <td>5</td>\n",
       "      <td>1</td>\n",
       "      <td>2</td>\n",
       "    </tr>\n",
       "    <tr>\n",
       "      <th>P3</th>\n",
       "      <td>2</td>\n",
       "      <td>5</td>\n",
       "      <td>5</td>\n",
       "    </tr>\n",
       "    <tr>\n",
       "      <th>P4</th>\n",
       "      <td>0</td>\n",
       "      <td>0</td>\n",
       "      <td>0</td>\n",
       "    </tr>\n",
       "    <tr>\n",
       "      <th>P5</th>\n",
       "      <td>0</td>\n",
       "      <td>0</td>\n",
       "      <td>0</td>\n",
       "    </tr>\n",
       "  </tbody>\n",
       "</table>\n",
       "</div>"
      ],
      "text/plain": [
       "    玩命速递  环太平洋  变形金刚\n",
       "P1     3     4     3\n",
       "P2     5     1     2\n",
       "P3     2     5     5\n",
       "P4     0     0     0\n",
       "P5     0     0     0"
      ]
     },
     "execution_count": 34,
     "metadata": {},
     "output_type": "execute_result"
    }
   ],
   "source": [
    "add_df"
   ]
  },
  {
   "cell_type": "code",
   "execution_count": 56,
   "metadata": {},
   "outputs": [],
   "source": [
    "new_df = pd.merge(df,add_df,left_index=True,right_index=True)"
   ]
  },
  {
   "cell_type": "code",
   "execution_count": 36,
   "metadata": {},
   "outputs": [
    {
     "data": {
      "text/html": [
       "<div>\n",
       "<style scoped>\n",
       "    .dataframe tbody tr th:only-of-type {\n",
       "        vertical-align: middle;\n",
       "    }\n",
       "\n",
       "    .dataframe tbody tr th {\n",
       "        vertical-align: top;\n",
       "    }\n",
       "\n",
       "    .dataframe thead th {\n",
       "        text-align: right;\n",
       "    }\n",
       "</style>\n",
       "<table border=\"1\" class=\"dataframe\">\n",
       "  <thead>\n",
       "    <tr style=\"text-align: right;\">\n",
       "      <th></th>\n",
       "      <th>A</th>\n",
       "      <th>B</th>\n",
       "      <th>C</th>\n",
       "      <th>D</th>\n",
       "      <th>E</th>\n",
       "      <th>F</th>\n",
       "      <th>玩命速递</th>\n",
       "      <th>环太平洋</th>\n",
       "      <th>变形金刚</th>\n",
       "    </tr>\n",
       "  </thead>\n",
       "  <tbody>\n",
       "    <tr>\n",
       "      <th>P1</th>\n",
       "      <td>3</td>\n",
       "      <td>4</td>\n",
       "      <td>3</td>\n",
       "      <td>5</td>\n",
       "      <td>1</td>\n",
       "      <td>4</td>\n",
       "      <td>3</td>\n",
       "      <td>4</td>\n",
       "      <td>3</td>\n",
       "    </tr>\n",
       "    <tr>\n",
       "      <th>P2</th>\n",
       "      <td>2</td>\n",
       "      <td>4</td>\n",
       "      <td>4</td>\n",
       "      <td>5</td>\n",
       "      <td>0</td>\n",
       "      <td>2</td>\n",
       "      <td>5</td>\n",
       "      <td>1</td>\n",
       "      <td>2</td>\n",
       "    </tr>\n",
       "    <tr>\n",
       "      <th>P3</th>\n",
       "      <td>3</td>\n",
       "      <td>5</td>\n",
       "      <td>4</td>\n",
       "      <td>5</td>\n",
       "      <td>2</td>\n",
       "      <td>1</td>\n",
       "      <td>2</td>\n",
       "      <td>5</td>\n",
       "      <td>5</td>\n",
       "    </tr>\n",
       "    <tr>\n",
       "      <th>P4</th>\n",
       "      <td>2</td>\n",
       "      <td>2</td>\n",
       "      <td>3</td>\n",
       "      <td>0</td>\n",
       "      <td>3</td>\n",
       "      <td>2</td>\n",
       "      <td>0</td>\n",
       "      <td>0</td>\n",
       "      <td>0</td>\n",
       "    </tr>\n",
       "    <tr>\n",
       "      <th>P5</th>\n",
       "      <td>4</td>\n",
       "      <td>0</td>\n",
       "      <td>4</td>\n",
       "      <td>5</td>\n",
       "      <td>1</td>\n",
       "      <td>0</td>\n",
       "      <td>0</td>\n",
       "      <td>0</td>\n",
       "      <td>0</td>\n",
       "    </tr>\n",
       "  </tbody>\n",
       "</table>\n",
       "</div>"
      ],
      "text/plain": [
       "    A  B  C  D  E  F  玩命速递  环太平洋  变形金刚\n",
       "P1  3  4  3  5  1  4     3     4     3\n",
       "P2  2  4  4  5  0  2     5     1     2\n",
       "P3  3  5  4  5  2  1     2     5     5\n",
       "P4  2  2  3  0  3  2     0     0     0\n",
       "P5  4  0  4  5  1  0     0     0     0"
      ]
     },
     "execution_count": 36,
     "metadata": {},
     "output_type": "execute_result"
    }
   ],
   "source": [
    "new_df"
   ]
  },
  {
   "cell_type": "code",
   "execution_count": 37,
   "metadata": {},
   "outputs": [
    {
     "data": {
      "text/plain": [
       "A       3\n",
       "B       4\n",
       "C       3\n",
       "D       5\n",
       "E       1\n",
       "F       4\n",
       "玩命速递    3\n",
       "环太平洋    4\n",
       "变形金刚    3\n",
       "Name: P1, dtype: int64"
      ]
     },
     "execution_count": 37,
     "metadata": {},
     "output_type": "execute_result"
    }
   ],
   "source": [
    "new_df.loc['P1']"
   ]
  },
  {
   "cell_type": "code",
   "execution_count": 38,
   "metadata": {},
   "outputs": [
    {
     "data": {
      "text/plain": [
       "5"
      ]
     },
     "execution_count": 38,
     "metadata": {},
     "output_type": "execute_result"
    }
   ],
   "source": [
    "len(new_df.index)"
   ]
  },
  {
   "cell_type": "code",
   "execution_count": 39,
   "metadata": {},
   "outputs": [
    {
     "data": {
      "text/html": [
       "<div>\n",
       "<style scoped>\n",
       "    .dataframe tbody tr th:only-of-type {\n",
       "        vertical-align: middle;\n",
       "    }\n",
       "\n",
       "    .dataframe tbody tr th {\n",
       "        vertical-align: top;\n",
       "    }\n",
       "\n",
       "    .dataframe thead th {\n",
       "        text-align: right;\n",
       "    }\n",
       "</style>\n",
       "<table border=\"1\" class=\"dataframe\">\n",
       "  <thead>\n",
       "    <tr style=\"text-align: right;\">\n",
       "      <th></th>\n",
       "      <th>玩命速递</th>\n",
       "      <th>环太平洋</th>\n",
       "      <th>变形金刚</th>\n",
       "    </tr>\n",
       "  </thead>\n",
       "  <tbody>\n",
       "    <tr>\n",
       "      <th>P1</th>\n",
       "      <td>3</td>\n",
       "      <td>4</td>\n",
       "      <td>3</td>\n",
       "    </tr>\n",
       "    <tr>\n",
       "      <th>P2</th>\n",
       "      <td>5</td>\n",
       "      <td>1</td>\n",
       "      <td>2</td>\n",
       "    </tr>\n",
       "    <tr>\n",
       "      <th>P3</th>\n",
       "      <td>2</td>\n",
       "      <td>5</td>\n",
       "      <td>5</td>\n",
       "    </tr>\n",
       "    <tr>\n",
       "      <th>P4</th>\n",
       "      <td>0</td>\n",
       "      <td>0</td>\n",
       "      <td>0</td>\n",
       "    </tr>\n",
       "    <tr>\n",
       "      <th>P5</th>\n",
       "      <td>0</td>\n",
       "      <td>0</td>\n",
       "      <td>0</td>\n",
       "    </tr>\n",
       "  </tbody>\n",
       "</table>\n",
       "</div>"
      ],
      "text/plain": [
       "    玩命速递  环太平洋  变形金刚\n",
       "P1     3     4     3\n",
       "P2     5     1     2\n",
       "P3     2     5     5\n",
       "P4     0     0     0\n",
       "P5     0     0     0"
      ]
     },
     "execution_count": 39,
     "metadata": {},
     "output_type": "execute_result"
    }
   ],
   "source": [
    "add_df"
   ]
  },
  {
   "cell_type": "markdown",
   "metadata": {},
   "source": [
    "  "
   ]
  },
  {
   "cell_type": "code",
   "execution_count": 48,
   "metadata": {},
   "outputs": [],
   "source": [
    "import operator\n",
    "def user_similarit_sort(user_name, dataframe, m):\n",
    "    if user_name in dataframe.index:\n",
    "        print('-------基于用户的推荐-------\\n')\n",
    "    else:\n",
    "        print('wrong!')\n",
    "        return\n",
    "    #     print('i am still working\\n ')\n",
    "    dic = {}\n",
    "    # 计算该用户和其他用户的相似度\n",
    "    for i in range(len(dataframe.index)):\n",
    "        k = cal_pearson(dataframe.loc[user_name], dataframe.iloc[i])\n",
    "        dic[dataframe.index[i]] = k\n",
    "\n",
    "#     list_new = sorted(dic.items(), key=lambda tup: tup[1], reverse=True)\n",
    "\n",
    "    list_new = sorted(dic.items(), key=lambda tup: tup[1], reverse=True)\n",
    "    print('\\n')\n",
    "\n",
    "    print('\\n相似度排序为： ')\n",
    "    for key, value in dict(list_new).items():\n",
    "        print(user_name + '与{k}  :  {v}'.format(k=key, v=value))\n",
    "\n",
    "    print('\\n')\n",
    "    selected_user = []\n",
    "    for i in range(1, m + 1):\n",
    "        selected_user.append(list_new[i][0])\n",
    "\n",
    "    print('\\n')\n",
    "\n",
    "    return selected_user, dict(list_new[1:m + 1])\n",
    "\n",
    "            "
   ]
  },
  {
   "cell_type": "code",
   "execution_count": 49,
   "metadata": {},
   "outputs": [
    {
     "name": "stdout",
     "output_type": "stream",
     "text": [
      "-------基于用户的推荐-------\n",
      "\n",
      "\n",
      "\n",
      "\n",
      "相似度排序为： \n",
      "P5与P5  :  1.0\n",
      "P5与P3  :  0.45342265631875744\n",
      "P5与P2  :  0.45196577180671094\n",
      "P5与P1  :  0.2167774923810302\n",
      "P5与P4  :  -0.40555355282690636\n",
      "\n",
      "\n",
      "\n",
      "\n"
     ]
    },
    {
     "data": {
      "text/plain": [
       "(['P3', 'P2'], {'P2': 0.45196577180671094, 'P3': 0.45342265631875744})"
      ]
     },
     "execution_count": 49,
     "metadata": {},
     "output_type": "execute_result"
    }
   ],
   "source": [
    "user_similarit_sort('P5',df,2)"
   ]
  },
  {
   "cell_type": "code",
   "execution_count": 50,
   "metadata": {},
   "outputs": [],
   "source": [
    "# 取出用户评过分的物品集合\n",
    "def get_set(user_name,dataframe):\n",
    "    \n",
    "    zero_col = dataframe.loc[user_name]\n",
    "    ind = zero_col[ zero_col[zero_col.index] >0 ].index   ##找到元素非0值对应的索引\n",
    "    \n",
    "#     print(user_name+'用户已评价的物品：')\n",
    "    rating_item = set(list(ind))\n",
    "    \n",
    "#     print(rating_item)\n",
    "    return rating_item"
   ]
  },
  {
   "cell_type": "code",
   "execution_count": 51,
   "metadata": {},
   "outputs": [
    {
     "data": {
      "text/plain": [
       "{'A', 'C', 'D', 'E'}"
      ]
     },
     "execution_count": 51,
     "metadata": {},
     "output_type": "execute_result"
    }
   ],
   "source": [
    " get_set('P5',df)"
   ]
  },
  {
   "cell_type": "code",
   "execution_count": 52,
   "metadata": {},
   "outputs": [],
   "source": [
    "def get_recommend(user_name,dataframe,m):\n",
    "    sim_user_dict={}\n",
    "    \n",
    "    sim_user = []\n",
    "    sim_user,sim_user_dict = user_similarit_sort(user_name,dataframe,m)\n",
    "    \n",
    "#     for u_num in range(len)  # \n",
    "    \n",
    "    print('---ok-----')\n",
    "    print(sim_user)\n",
    "    \n",
    "    \n",
    "    print('排名前'+str(m)+'位的用户数据为： ')\n",
    "    print(dataframe.loc[sim_user])\n",
    "    \n",
    "   \n",
    "    ###----------根据用户的相似度进行推荐-----------------\n",
    "    ###   取集合  A  和 B 都有，但  C  没有的\n",
    "    \n",
    "    user_set = get_set(user_name,dataframe) #取集合  A\n",
    "    sim_user_set=[]\n",
    "    print('\\n---------------')\n",
    "   \n",
    "    for i in range(1,m+1):\n",
    "        sim_user_set.append(get_set(sim_user[i-1],dataframe))  #获取相似用户的 评分物品  的集合\n",
    "\n",
    "    #获取相似用户的  交集 与用户 的差集\n",
    "    for num in range(len(sim_user_set)-1):\n",
    "        sim_user_set[num+1] = sim_user_set[num].intersection(sim_user_set[num+1]) #计算相似用户的评价物品的交集\n",
    "    \n",
    "    re_comem_items_set = sim_user_set[-1] - user_set # 生成待推荐物品的集合\n",
    "\n",
    "    print('\\n')\n",
    "    rating=np.zeros(len(list(re_comem_items_set)))\n",
    "    \n",
    "    ########   计算加权评分  #######\n",
    "    score={}\n",
    "    for i in range(len(re_comem_items_set)):\n",
    "        for j in range(len(sim_user)):\n",
    "            rating[i] = rating[i] + dataframe[list(re_comem_items_set)[i]][sim_user[j]]*sim_user_dict[sim_user[j]]\n",
    "   \n",
    "        score[list(re_comem_items_set)[i]] = rating[i]\n",
    "    ########   计算加权评分#######\n",
    "\n",
    "    rec_items = sorted(score.items(),key=lambda x:x[1],reverse=True)\n",
    "\n",
    "    \n",
    "    print('\\n---------------')\n",
    "    print('推荐物品是:'+rec_items[0][0])\n",
    "    print('推荐指数：' + str(rec_items[0][1]))\n",
    "    print('\\n---------------')\n",
    "    \n",
    "    return rec_items\n",
    "    "
   ]
  },
  {
   "cell_type": "code",
   "execution_count": 53,
   "metadata": {},
   "outputs": [
    {
     "name": "stdout",
     "output_type": "stream",
     "text": [
      "-------基于用户的推荐-------\n",
      "\n",
      "\n",
      "\n",
      "\n",
      "相似度排序为： \n",
      "P5与P5  :  1.0\n",
      "P5与P3  :  0.45342265631875744\n",
      "P5与P2  :  0.45196577180671094\n",
      "P5与P1  :  0.2167774923810302\n",
      "P5与P4  :  -0.40555355282690636\n",
      "\n",
      "\n",
      "\n",
      "\n",
      "---ok-----\n",
      "['P3', 'P2']\n",
      "排名前2位的用户数据为： \n",
      "    A  B  C  D  E  F\n",
      "P3  3  5  4  5  2  1\n",
      "P2  2  4  4  5  0  2\n",
      "\n",
      "---------------\n",
      "\n",
      "\n",
      "\n",
      "---------------\n",
      "推荐物品是:B\n",
      "推荐指数：4.07497636882063\n",
      "\n",
      "---------------\n"
     ]
    },
    {
     "data": {
      "text/plain": [
       "[('B', 4.07497636882063), ('F', 1.3573541999321792)]"
      ]
     },
     "execution_count": 53,
     "metadata": {},
     "output_type": "execute_result"
    }
   ],
   "source": [
    "get_recommend('P5',df,2)"
   ]
  },
  {
   "cell_type": "code",
   "execution_count": null,
   "metadata": {},
   "outputs": [],
   "source": []
  }
 ],
 "metadata": {
  "kernelspec": {
   "display_name": "Python 3",
   "language": "python",
   "name": "python3"
  },
  "language_info": {
   "codemirror_mode": {
    "name": "ipython",
    "version": 3
   },
   "file_extension": ".py",
   "mimetype": "text/x-python",
   "name": "python",
   "nbconvert_exporter": "python",
   "pygments_lexer": "ipython3",
   "version": "3.6.0"
  }
 },
 "nbformat": 4,
 "nbformat_minor": 2
}
